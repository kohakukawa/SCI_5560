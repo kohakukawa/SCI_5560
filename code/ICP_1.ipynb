{
  "nbformat": 4,
  "nbformat_minor": 0,
  "metadata": {
    "colab": {
      "name": "ICP-1.ipynb",
      "provenance": [],
      "collapsed_sections": []
    },
    "kernelspec": {
      "name": "python3",
      "display_name": "Python 3"
    },
    "language_info": {
      "name": "python"
    }
  },
  "cells": [
    {
      "cell_type": "code",
      "execution_count": 1,
      "metadata": {
        "colab": {
          "base_uri": "https://localhost:8080/"
        },
        "id": "QPB1c2kFVFfw",
        "outputId": "de89701b-19f5-459e-97a9-9b775c084eb6"
      },
      "outputs": [
        {
          "output_type": "stream",
          "name": "stdout",
          "text": [
            "[nltk_data] Downloading package punkt to /root/nltk_data...\n",
            "[nltk_data]   Unzipping tokenizers/punkt.zip.\n"
          ]
        }
      ],
      "source": [
        "# import all the libraries \n",
        "import nltk\n",
        "nltk.download('punkt')\n",
        "import pandas as pd\n",
        "from nltk.tokenize import sent_tokenize\n",
        "from nltk.tokenize import word_tokenize\n",
        "from nltk.probability import FreqDist\n",
        "import matplotlib.pyplot as plt"
      ]
    },
    {
      "cell_type": "code",
      "source": [
        "from google.colab import drive\n",
        "drive.mount('/content/drive')"
      ],
      "metadata": {
        "colab": {
          "base_uri": "https://localhost:8080/"
        },
        "id": "IfMKwGMHWe5S",
        "outputId": "055784d7-fe66-4ca0-fadc-033938d57ca4"
      },
      "execution_count": 3,
      "outputs": [
        {
          "output_type": "stream",
          "name": "stdout",
          "text": [
            "Mounted at /content/drive\n"
          ]
        }
      ]
    },
    {
      "cell_type": "code",
      "source": [
        "dataset=pd.read_csv(\"/content/drive/MyDrive/data/input_file.txt\",delimiter=\"\\t\")\n",
        "dataset"
      ],
      "metadata": {
        "colab": {
          "base_uri": "https://localhost:8080/",
          "height": 126
        },
        "id": "FoGOdefZW80D",
        "outputId": "74a5d0f5-0c79-4002-eaae-47f8db06187b"
      },
      "execution_count": 5,
      "outputs": [
        {
          "output_type": "execute_result",
          "data": {
            "text/html": [
              "\n",
              "  <div id=\"df-a13ac574-31c4-4d71-a97a-5ef60699bb13\">\n",
              "    <div class=\"colab-df-container\">\n",
              "      <div>\n",
              "<style scoped>\n",
              "    .dataframe tbody tr th:only-of-type {\n",
              "        vertical-align: middle;\n",
              "    }\n",
              "\n",
              "    .dataframe tbody tr th {\n",
              "        vertical-align: top;\n",
              "    }\n",
              "\n",
              "    .dataframe thead th {\n",
              "        text-align: right;\n",
              "    }\n",
              "</style>\n",
              "<table border=\"1\" class=\"dataframe\">\n",
              "  <thead>\n",
              "    <tr style=\"text-align: right;\">\n",
              "      <th></th>\n",
              "      <th>Text Analytics has lots of applications in today's online world. By analyzing tweets on Twitter, we can find trending news and peoples reaction on a particular event. Amazon can understand user feedback or review on the specific product. BookMyShow can discover people's opinion about the movie. Youtube can also analyze and understand peoples viewpoints on a video.</th>\n",
              "    </tr>\n",
              "  </thead>\n",
              "  <tbody>\n",
              "  </tbody>\n",
              "</table>\n",
              "</div>\n",
              "      <button class=\"colab-df-convert\" onclick=\"convertToInteractive('df-a13ac574-31c4-4d71-a97a-5ef60699bb13')\"\n",
              "              title=\"Convert this dataframe to an interactive table.\"\n",
              "              style=\"display:none;\">\n",
              "        \n",
              "  <svg xmlns=\"http://www.w3.org/2000/svg\" height=\"24px\"viewBox=\"0 0 24 24\"\n",
              "       width=\"24px\">\n",
              "    <path d=\"M0 0h24v24H0V0z\" fill=\"none\"/>\n",
              "    <path d=\"M18.56 5.44l.94 2.06.94-2.06 2.06-.94-2.06-.94-.94-2.06-.94 2.06-2.06.94zm-11 1L8.5 8.5l.94-2.06 2.06-.94-2.06-.94L8.5 2.5l-.94 2.06-2.06.94zm10 10l.94 2.06.94-2.06 2.06-.94-2.06-.94-.94-2.06-.94 2.06-2.06.94z\"/><path d=\"M17.41 7.96l-1.37-1.37c-.4-.4-.92-.59-1.43-.59-.52 0-1.04.2-1.43.59L10.3 9.45l-7.72 7.72c-.78.78-.78 2.05 0 2.83L4 21.41c.39.39.9.59 1.41.59.51 0 1.02-.2 1.41-.59l7.78-7.78 2.81-2.81c.8-.78.8-2.07 0-2.86zM5.41 20L4 18.59l7.72-7.72 1.47 1.35L5.41 20z\"/>\n",
              "  </svg>\n",
              "      </button>\n",
              "      \n",
              "  <style>\n",
              "    .colab-df-container {\n",
              "      display:flex;\n",
              "      flex-wrap:wrap;\n",
              "      gap: 12px;\n",
              "    }\n",
              "\n",
              "    .colab-df-convert {\n",
              "      background-color: #E8F0FE;\n",
              "      border: none;\n",
              "      border-radius: 50%;\n",
              "      cursor: pointer;\n",
              "      display: none;\n",
              "      fill: #1967D2;\n",
              "      height: 32px;\n",
              "      padding: 0 0 0 0;\n",
              "      width: 32px;\n",
              "    }\n",
              "\n",
              "    .colab-df-convert:hover {\n",
              "      background-color: #E2EBFA;\n",
              "      box-shadow: 0px 1px 2px rgba(60, 64, 67, 0.3), 0px 1px 3px 1px rgba(60, 64, 67, 0.15);\n",
              "      fill: #174EA6;\n",
              "    }\n",
              "\n",
              "    [theme=dark] .colab-df-convert {\n",
              "      background-color: #3B4455;\n",
              "      fill: #D2E3FC;\n",
              "    }\n",
              "\n",
              "    [theme=dark] .colab-df-convert:hover {\n",
              "      background-color: #434B5C;\n",
              "      box-shadow: 0px 1px 3px 1px rgba(0, 0, 0, 0.15);\n",
              "      filter: drop-shadow(0px 1px 2px rgba(0, 0, 0, 0.3));\n",
              "      fill: #FFFFFF;\n",
              "    }\n",
              "  </style>\n",
              "\n",
              "      <script>\n",
              "        const buttonEl =\n",
              "          document.querySelector('#df-a13ac574-31c4-4d71-a97a-5ef60699bb13 button.colab-df-convert');\n",
              "        buttonEl.style.display =\n",
              "          google.colab.kernel.accessAllowed ? 'block' : 'none';\n",
              "\n",
              "        async function convertToInteractive(key) {\n",
              "          const element = document.querySelector('#df-a13ac574-31c4-4d71-a97a-5ef60699bb13');\n",
              "          const dataTable =\n",
              "            await google.colab.kernel.invokeFunction('convertToInteractive',\n",
              "                                                     [key], {});\n",
              "          if (!dataTable) return;\n",
              "\n",
              "          const docLinkHtml = 'Like what you see? Visit the ' +\n",
              "            '<a target=\"_blank\" href=https://colab.research.google.com/notebooks/data_table.ipynb>data table notebook</a>'\n",
              "            + ' to learn more about interactive tables.';\n",
              "          element.innerHTML = '';\n",
              "          dataTable['output_type'] = 'display_data';\n",
              "          await google.colab.output.renderOutput(dataTable, element);\n",
              "          const docLink = document.createElement('div');\n",
              "          docLink.innerHTML = docLinkHtml;\n",
              "          element.appendChild(docLink);\n",
              "        }\n",
              "      </script>\n",
              "    </div>\n",
              "  </div>\n",
              "  "
            ],
            "text/plain": [
              "Empty DataFrame\n",
              "Columns: [Text Analytics has lots of applications in today's online world. By analyzing tweets on Twitter, we can find trending news and peoples reaction on a particular event. Amazon can understand user feedback or review on the specific product. BookMyShow can discover people's opinion about the movie. Youtube can also analyze and understand peoples viewpoints on a video.]\n",
              "Index: []"
            ]
          },
          "metadata": {},
          "execution_count": 5
        }
      ]
    },
    {
      "cell_type": "code",
      "source": [
        "text= dataset.to_string()\n",
        "text"
      ],
      "metadata": {
        "colab": {
          "base_uri": "https://localhost:8080/",
          "height": 71
        },
        "id": "zx8uUCz1XT04",
        "outputId": "066ae845-6291-4371-8d51-52fa56c43324"
      },
      "execution_count": 6,
      "outputs": [
        {
          "output_type": "execute_result",
          "data": {
            "application/vnd.google.colaboratory.intrinsic+json": {
              "type": "string"
            },
            "text/plain": [
              "\"Empty DataFrame\\nColumns: [Text Analytics has lots of applications in today's online world. By analyzing tweets on Twitter, we can find trending news and peoples reaction on a particular event. Amazon can understand user feedback or review on the specific product. BookMyShow can discover people's opinion about the movie. Youtube can also analyze and understand peoples viewpoints on a video.]\\nIndex: []\""
            ]
          },
          "metadata": {},
          "execution_count": 6
        }
      ]
    },
    {
      "cell_type": "code",
      "source": [
        "tokenized_text = sent_tokenize(text)\n",
        "print(tokenized_text)\n",
        "print(len(tokenized_text))"
      ],
      "metadata": {
        "colab": {
          "base_uri": "https://localhost:8080/"
        },
        "id": "JMrU-RslZKRn",
        "outputId": "8f67552a-f88f-467c-8b0c-25d31224c3ad"
      },
      "execution_count": 9,
      "outputs": [
        {
          "output_type": "stream",
          "name": "stdout",
          "text": [
            "[\"Empty DataFrame\\nColumns: [Text Analytics has lots of applications in today's online world.\", 'By analyzing tweets on Twitter, we can find trending news and peoples reaction on a particular event.', 'Amazon can understand user feedback or review on the specific product.', \"BookMyShow can discover people's opinion about the movie.\", 'Youtube can also analyze and understand peoples viewpoints on a video.]', 'Index: []']\n",
            "6\n"
          ]
        }
      ]
    },
    {
      "cell_type": "code",
      "source": [
        "tokenized_word=word_tokenize(text)\n",
        "print(tokenized_word)\n",
        "print(len(tokenized_word))"
      ],
      "metadata": {
        "colab": {
          "base_uri": "https://localhost:8080/"
        },
        "id": "iGM0-afIZ7E0",
        "outputId": "71bc87da-8872-469c-bb42-8c65157cfdbd"
      },
      "execution_count": 8,
      "outputs": [
        {
          "output_type": "stream",
          "name": "stdout",
          "text": [
            "['Empty', 'DataFrame', 'Columns', ':', '[', 'Text', 'Analytics', 'has', 'lots', 'of', 'applications', 'in', 'today', \"'s\", 'online', 'world', '.', 'By', 'analyzing', 'tweets', 'on', 'Twitter', ',', 'we', 'can', 'find', 'trending', 'news', 'and', 'peoples', 'reaction', 'on', 'a', 'particular', 'event', '.', 'Amazon', 'can', 'understand', 'user', 'feedback', 'or', 'review', 'on', 'the', 'specific', 'product', '.', 'BookMyShow', 'can', 'discover', 'people', \"'s\", 'opinion', 'about', 'the', 'movie', '.', 'Youtube', 'can', 'also', 'analyze', 'and', 'understand', 'peoples', 'viewpoints', 'on', 'a', 'video', '.', ']', 'Index', ':', '[', ']']\n",
            "75\n"
          ]
        }
      ]
    },
    {
      "cell_type": "markdown",
      "source": [
        "task2:word cloud"
      ],
      "metadata": {
        "id": "_0RC6Ip8a9yP"
      }
    },
    {
      "cell_type": "code",
      "source": [
        "import collections # word frequency statistics library\n",
        "import numpy as np # numpy data processing library\n",
        "import wordcloud # word cloud display library\n",
        "from PIL import Image # Image processing library\n",
        "import matplotlib.pyplot as plt # Image library"
      ],
      "metadata": {
        "id": "MBqkj2tqfTy_"
      },
      "execution_count": 40,
      "outputs": []
    },
    {
      "cell_type": "code",
      "source": [
        "word_list = []\n",
        "remove_words = ['.',':','[',']']\n",
        "\n",
        "for word in tokenized_word: # Read each word in a loop\n",
        "    if word not in remove_words:\n",
        "        word_list.append(word) # word append to list\n",
        "\n",
        "# Word frequency statistics\n",
        "word_counts = collections.Counter(word_list) # Do word frequency statistics for word segmentation\n",
        "print (word_counts) \n"
      ],
      "metadata": {
        "colab": {
          "base_uri": "https://localhost:8080/"
        },
        "id": "6xalwAZof1F4",
        "outputId": "bd5189a2-b86f-479f-a0c5-82e8b2d402dc"
      },
      "execution_count": 41,
      "outputs": [
        {
          "output_type": "stream",
          "name": "stdout",
          "text": [
            "Counter({'on': 4, 'can': 4, \"'s\": 2, 'and': 2, 'peoples': 2, 'a': 2, 'understand': 2, 'the': 2, 'Empty': 1, 'DataFrame': 1, 'Columns': 1, 'Text': 1, 'Analytics': 1, 'has': 1, 'lots': 1, 'of': 1, 'applications': 1, 'in': 1, 'today': 1, 'online': 1, 'world': 1, 'By': 1, 'analyzing': 1, 'tweets': 1, 'Twitter': 1, ',': 1, 'we': 1, 'find': 1, 'trending': 1, 'news': 1, 'reaction': 1, 'particular': 1, 'event': 1, 'Amazon': 1, 'user': 1, 'feedback': 1, 'or': 1, 'review': 1, 'specific': 1, 'product': 1, 'BookMyShow': 1, 'discover': 1, 'people': 1, 'opinion': 1, 'about': 1, 'movie': 1, 'Youtube': 1, 'also': 1, 'analyze': 1, 'viewpoints': 1, 'video': 1, 'Index': 1})\n"
          ]
        }
      ]
    },
    {
      "cell_type": "code",
      "source": [
        "mask = np.array(Image.open('/content/drive/MyDrive/pic/Snorlax.png')) # Define word frequency context\n",
        "wc = wordcloud.WordCloud(\n",
        "    mask=mask, # set background image\n",
        "    max_words=50, # maximum number of words displayed\n",
        "    max_font_size=300 # font max\n",
        ")"
      ],
      "metadata": {
        "id": "wroGmxFp8Z9g"
      },
      "execution_count": 42,
      "outputs": []
    },
    {
      "cell_type": "code",
      "source": [
        "wc.generate_from_frequencies(word_counts) # Generate word from dictionary\n",
        "image_colors = wordcloud.ImageColorGenerator(mask) # Create a color scheme from a background image\n",
        "wc.recolor(color_func=image_colors) # Set word cloud color as background image scheme\n",
        "plt.imshow(wc) # Show word cloud\n",
        "plt.axis('off') # Close the axes\n",
        "plt.show() # display image"
      ],
      "metadata": {
        "colab": {
          "base_uri": "https://localhost:8080/",
          "height": 248
        },
        "id": "hC9SmgfRA4eA",
        "outputId": "829102a0-8bab-402c-9f95-31eb480071bb"
      },
      "execution_count": 43,
      "outputs": [
        {
          "output_type": "display_data",
          "data": {
            "image/png": "[encoded data removed]",
            "text/plain": [
              "<Figure size 432x288 with 1 Axes>"
            ]
          },
          "metadata": {
            "needs_background": "light"
          }
        }
      ]
    },
    {
      "cell_type": "markdown",
      "source": [
        "task3:Lexical normalization"
      ],
      "metadata": {
        "id": "IeAIndT4BdXa"
      }
    },
    {
      "cell_type": "code",
      "source": [
        "import nltk\n",
        "from nltk.stem import WordNetLemmatizer\n",
        "from nltk.corpus import stopwords\n",
        "nltk.download('stopwords')\n",
        "nltk.download('wordnet')\n",
        "\n",
        "raw_text = text\n",
        "\n",
        "raw_words = nltk.word_tokenize(raw_text)\n",
        "\n",
        "print(raw_words)"
      ],
      "metadata": {
        "colab": {
          "base_uri": "https://localhost:8080/"
        },
        "id": "aFwEyP_2DQdS",
        "outputId": "2dd1ef70-cc4a-4e36-86cc-5380f8479172"
      },
      "execution_count": 88,
      "outputs": [
        {
          "output_type": "stream",
          "name": "stdout",
          "text": [
            "[nltk_data] Downloading package stopwords to /root/nltk_data...\n",
            "[nltk_data]   Package stopwords is already up-to-date!\n",
            "[nltk_data] Downloading package wordnet to /root/nltk_data...\n",
            "[nltk_data]   Unzipping corpora/wordnet.zip.\n",
            "['Empty', 'DataFrame', 'Columns', ':', '[', 'Text', 'Analytics', 'has', 'lots', 'of', 'applications', 'in', 'today', \"'s\", 'online', 'world', '.', 'By', 'analyzing', 'tweets', 'on', 'Twitter', ',', 'we', 'can', 'find', 'trending', 'news', 'and', 'peoples', 'reaction', 'on', 'a', 'particular', 'event', '.', 'Amazon', 'can', 'understand', 'user', 'feedback', 'or', 'review', 'on', 'the', 'specific', 'product', '.', 'BookMyShow', 'can', 'discover', 'people', \"'s\", 'opinion', 'about', 'the', 'movie', '.', 'Youtube', 'can', 'also', 'analyze', 'and', 'understand', 'peoples', 'viewpoints', 'on', 'a', 'video', '.', ']', 'Index', ':', '[', ']']\n"
          ]
        }
      ]
    },
    {
      "cell_type": "code",
      "source": [
        "filtered_words=[]\n",
        "\n",
        "for word in raw_words:\n",
        "    if word not in stopwords.words('english'):\n",
        "        filtered_words.append(word)\n",
        "\n",
        "\n",
        "wordnet_lematizer = WordNetLemmatizer()\n",
        "output_words=[]\n",
        "for word in filtered_words:\n",
        "    temp=wordnet_lematizer.lemmatize(word)\n",
        "    output_words.append(temp)\n",
        "\n",
        "print('input：', raw_text)\n",
        "print('output：', output_words)"
      ],
      "metadata": {
        "colab": {
          "base_uri": "https://localhost:8080/"
        },
        "id": "ukNsYbDUO6GB",
        "outputId": "7bf71f89-9cbb-4bb7-ae44-cc3d4976a138"
      },
      "execution_count": 90,
      "outputs": [
        {
          "output_type": "stream",
          "name": "stdout",
          "text": [
            "input： Empty DataFrame\n",
            "Columns: [Text Analytics has lots of applications in today's online world. By analyzing tweets on Twitter, we can find trending news and peoples reaction on a particular event. Amazon can understand user feedback or review on the specific product. BookMyShow can discover people's opinion about the movie. Youtube can also analyze and understand peoples viewpoints on a video.]\n",
            "Index: []\n",
            "output： ['Empty', 'DataFrame', 'Columns', ':', '[', 'Text', 'Analytics', 'lot', 'application', 'today', \"'s\", 'online', 'world', '.', 'By', 'analyzing', 'tweet', 'Twitter', ',', 'find', 'trending', 'news', 'people', 'reaction', 'particular', 'event', '.', 'Amazon', 'understand', 'user', 'feedback', 'review', 'specific', 'product', '.', 'BookMyShow', 'discover', 'people', \"'s\", 'opinion', 'movie', '.', 'Youtube', 'also', 'analyze', 'understand', 'people', 'viewpoint', 'video', '.', ']', 'Index', ':', '[', ']']\n"
          ]
        }
      ]
    }
  ]
}