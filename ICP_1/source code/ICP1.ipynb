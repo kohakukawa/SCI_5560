{
  "nbformat": 4,
  "nbformat_minor": 0,
  "metadata": {
    "colab": {
      "name": "ICP1.ipynb",
      "provenance": [],
      "toc_visible": true,
      "collapsed_sections": []
    },
    "kernelspec": {
      "name": "python3",
      "display_name": "Python 3"
    },
    "language_info": {
      "name": "python"
    }
  },
  "cells": [
    {
      "cell_type": "markdown",
      "source": [
        "Importing libraries per the provided source code."
      ],
      "metadata": {
        "id": "yS2mYM53nfl4"
      }
    },
    {
      "cell_type": "code",
      "execution_count": 20,
      "metadata": {
        "colab": {
          "base_uri": "https://localhost:8080/"
        },
        "id": "5mudS-WdnQ7X",
        "outputId": "9e215b82-e85d-44c8-851c-d6be486b057e"
      },
      "outputs": [
        {
          "output_type": "stream",
          "name": "stdout",
          "text": [
            "[nltk_data] Downloading package punkt to /root/nltk_data...\n",
            "[nltk_data]   Package punkt is already up-to-date!\n"
          ]
        }
      ],
      "source": [
        "import nltk\n",
        "nltk.download('punkt')\n",
        "import pandas as pd\n",
        "from nltk.tokenize import sent_tokenize\n",
        "from nltk.tokenize import word_tokenize\n",
        "from nltk.probability import FreqDist\n",
        "import matplotlib.pyplot as plt"
      ]
    },
    {
      "cell_type": "markdown",
      "source": [
        "Mounting google drive."
      ],
      "metadata": {
        "id": "n4tHpxdeoIHQ"
      }
    },
    {
      "cell_type": "code",
      "source": [
        "from google.colab import drive\n",
        "drive.mount('/content/drive')"
      ],
      "metadata": {
        "colab": {
          "base_uri": "https://localhost:8080/"
        },
        "id": "1XrRtawWoHRf",
        "outputId": "e0748332-0c44-4c90-f49c-16277e47351c"
      },
      "execution_count": 10,
      "outputs": [
        {
          "output_type": "stream",
          "name": "stdout",
          "text": [
            "Drive already mounted at /content/drive; to attempt to forcibly remount, call drive.mount(\"/content/drive\", force_remount=True).\n"
          ]
        }
      ]
    },
    {
      "cell_type": "markdown",
      "source": [
        "Reading the data file as pandas data frame."
      ],
      "metadata": {
        "id": "xChtcCAmn81h"
      }
    },
    {
      "cell_type": "code",
      "source": [
        "dataset = pd.read_csv(\"/content/drive/MyDrive/data/input_file.txt\",delimiter=\"\\t\")\n",
        "dataset"
      ],
      "metadata": {
        "colab": {
          "base_uri": "https://localhost:8080/",
          "height": 128
        },
        "id": "F8BQ4DoQoBh9",
        "outputId": "bbe806fa-76ec-4698-ba58-0756fc25f54c"
      },
      "execution_count": 21,
      "outputs": [
        {
          "output_type": "execute_result",
          "data": {
            "text/html": [
              "\n",
              "  <div id=\"df-3b967d8c-5836-495c-8fbd-08f3fe6ec927\">\n",
              "    <div class=\"colab-df-container\">\n",
              "      <div>\n",
              "<style scoped>\n",
              "    .dataframe tbody tr th:only-of-type {\n",
              "        vertical-align: middle;\n",
              "    }\n",
              "\n",
              "    .dataframe tbody tr th {\n",
              "        vertical-align: top;\n",
              "    }\n",
              "\n",
              "    .dataframe thead th {\n",
              "        text-align: right;\n",
              "    }\n",
              "</style>\n",
              "<table border=\"1\" class=\"dataframe\">\n",
              "  <thead>\n",
              "    <tr style=\"text-align: right;\">\n",
              "      <th></th>\n",
              "      <th>Text Analytics has lots of applications in today's online world. By analyzing tweets on Twitter, we can find trending news and peoples reaction on a particular event. Amazon can understand user feedback or review on the specific product. BookMyShow can discover people's opinion about the movie. Youtube can also analyze and understand peoples viewpoints on a video.</th>\n",
              "    </tr>\n",
              "  </thead>\n",
              "  <tbody>\n",
              "  </tbody>\n",
              "</table>\n",
              "</div>\n",
              "      <button class=\"colab-df-convert\" onclick=\"convertToInteractive('df-3b967d8c-5836-495c-8fbd-08f3fe6ec927')\"\n",
              "              title=\"Convert this dataframe to an interactive table.\"\n",
              "              style=\"display:none;\">\n",
              "        \n",
              "  <svg xmlns=\"http://www.w3.org/2000/svg\" height=\"24px\"viewBox=\"0 0 24 24\"\n",
              "       width=\"24px\">\n",
              "    <path d=\"M0 0h24v24H0V0z\" fill=\"none\"/>\n",
              "    <path d=\"M18.56 5.44l.94 2.06.94-2.06 2.06-.94-2.06-.94-.94-2.06-.94 2.06-2.06.94zm-11 1L8.5 8.5l.94-2.06 2.06-.94-2.06-.94L8.5 2.5l-.94 2.06-2.06.94zm10 10l.94 2.06.94-2.06 2.06-.94-2.06-.94-.94-2.06-.94 2.06-2.06.94z\"/><path d=\"M17.41 7.96l-1.37-1.37c-.4-.4-.92-.59-1.43-.59-.52 0-1.04.2-1.43.59L10.3 9.45l-7.72 7.72c-.78.78-.78 2.05 0 2.83L4 21.41c.39.39.9.59 1.41.59.51 0 1.02-.2 1.41-.59l7.78-7.78 2.81-2.81c.8-.78.8-2.07 0-2.86zM5.41 20L4 18.59l7.72-7.72 1.47 1.35L5.41 20z\"/>\n",
              "  </svg>\n",
              "      </button>\n",
              "      \n",
              "  <style>\n",
              "    .colab-df-container {\n",
              "      display:flex;\n",
              "      flex-wrap:wrap;\n",
              "      gap: 12px;\n",
              "    }\n",
              "\n",
              "    .colab-df-convert {\n",
              "      background-color: #E8F0FE;\n",
              "      border: none;\n",
              "      border-radius: 50%;\n",
              "      cursor: pointer;\n",
              "      display: none;\n",
              "      fill: #1967D2;\n",
              "      height: 32px;\n",
              "      padding: 0 0 0 0;\n",
              "      width: 32px;\n",
              "    }\n",
              "\n",
              "    .colab-df-convert:hover {\n",
              "      background-color: #E2EBFA;\n",
              "      box-shadow: 0px 1px 2px rgba(60, 64, 67, 0.3), 0px 1px 3px 1px rgba(60, 64, 67, 0.15);\n",
              "      fill: #174EA6;\n",
              "    }\n",
              "\n",
              "    [theme=dark] .colab-df-convert {\n",
              "      background-color: #3B4455;\n",
              "      fill: #D2E3FC;\n",
              "    }\n",
              "\n",
              "    [theme=dark] .colab-df-convert:hover {\n",
              "      background-color: #434B5C;\n",
              "      box-shadow: 0px 1px 3px 1px rgba(0, 0, 0, 0.15);\n",
              "      filter: drop-shadow(0px 1px 2px rgba(0, 0, 0, 0.3));\n",
              "      fill: #FFFFFF;\n",
              "    }\n",
              "  </style>\n",
              "\n",
              "      <script>\n",
              "        const buttonEl =\n",
              "          document.querySelector('#df-3b967d8c-5836-495c-8fbd-08f3fe6ec927 button.colab-df-convert');\n",
              "        buttonEl.style.display =\n",
              "          google.colab.kernel.accessAllowed ? 'block' : 'none';\n",
              "\n",
              "        async function convertToInteractive(key) {\n",
              "          const element = document.querySelector('#df-3b967d8c-5836-495c-8fbd-08f3fe6ec927');\n",
              "          const dataTable =\n",
              "            await google.colab.kernel.invokeFunction('convertToInteractive',\n",
              "                                                     [key], {});\n",
              "          if (!dataTable) return;\n",
              "\n",
              "          const docLinkHtml = 'Like what you see? Visit the ' +\n",
              "            '<a target=\"_blank\" href=https://colab.research.google.com/notebooks/data_table.ipynb>data table notebook</a>'\n",
              "            + ' to learn more about interactive tables.';\n",
              "          element.innerHTML = '';\n",
              "          dataTable['output_type'] = 'display_data';\n",
              "          await google.colab.output.renderOutput(dataTable, element);\n",
              "          const docLink = document.createElement('div');\n",
              "          docLink.innerHTML = docLinkHtml;\n",
              "          element.appendChild(docLink);\n",
              "        }\n",
              "      </script>\n",
              "    </div>\n",
              "  </div>\n",
              "  "
            ],
            "text/plain": [
              "Empty DataFrame\n",
              "Columns: [Text Analytics has lots of applications in today's online world. By analyzing tweets on Twitter, we can find trending news and peoples reaction on a particular event. Amazon can understand user feedback or review on the specific product. BookMyShow can discover people's opinion about the movie. Youtube can also analyze and understand peoples viewpoints on a video.]\n",
              "Index: []"
            ]
          },
          "metadata": {},
          "execution_count": 21
        }
      ]
    },
    {
      "cell_type": "markdown",
      "source": [
        "Converting dataframe to a string, removing characters not originally in text file."
      ],
      "metadata": {
        "id": "YOsyL4Qup3t6"
      }
    },
    {
      "cell_type": "code",
      "source": [
        "text = dataset.to_string()\n",
        "text = text[26:-11]\n",
        "text"
      ],
      "metadata": {
        "colab": {
          "base_uri": "https://localhost:8080/",
          "height": 70
        },
        "id": "yOzpgWDap4v-",
        "outputId": "f5d86447-1ddc-4c46-d075-4dd8295b69c8"
      },
      "execution_count": 28,
      "outputs": [
        {
          "output_type": "execute_result",
          "data": {
            "application/vnd.google.colaboratory.intrinsic+json": {
              "type": "string"
            },
            "text/plain": [
              "\"Text Analytics has lots of applications in today's online world. By analyzing tweets on Twitter, we can find trending news and peoples reaction on a particular event. Amazon can understand user feedback or review on the specific product. BookMyShow can discover people's opinion about the movie. Youtube can also analyze and understand peoples viewpoints on a video.\""
            ]
          },
          "metadata": {},
          "execution_count": 28
        }
      ]
    },
    {
      "cell_type": "markdown",
      "source": [
        "Converting string into words."
      ],
      "metadata": {
        "id": "iEllWCmgvpTk"
      }
    },
    {
      "cell_type": "code",
      "source": [
        "tokenized_word = word_tokenize(text)\n",
        "print(tokenized_word)\n",
        "len(tokenized_word)"
      ],
      "metadata": {
        "colab": {
          "base_uri": "https://localhost:8080/"
        },
        "id": "d_QrH9Zov3lS",
        "outputId": "9db28a52-4806-4f95-fcfe-0a46e444b797"
      },
      "execution_count": 5,
      "outputs": [
        {
          "output_type": "stream",
          "name": "stdout",
          "text": [
            "['Text', 'Analytics', 'has', 'lots', 'of', 'applications', 'in', 'today', \"'s\", 'online', 'world', '.', 'By', 'analyzing', 'tweets', 'on', 'Twitter', ',', 'we', 'can', 'find', 'trending', 'news', 'and', 'peoples', 'reaction', 'on', 'a', 'particular', 'event', '.', 'Amazon', 'can', 'understand', 'user', 'feedback', 'or', 'review', 'on', 'the', 'specific', 'product', '.', 'BookMyShow', 'can', 'discover', 'people', \"'s\", 'opinion', 'about', 'the', 'movie', '.', 'Youtube', 'can', 'also', 'analyze', 'and', 'understand', 'peoples', 'viewpoints', 'on', 'a', 'video', '.']\n"
          ]
        },
        {
          "output_type": "execute_result",
          "data": {
            "text/plain": [
              "65"
            ]
          },
          "metadata": {},
          "execution_count": 5
        }
      ]
    },
    {
      "cell_type": "markdown",
      "source": [
        "First task: Create frequency distribution based on parts of speech and determine the number of proper nouns mentioned."
      ],
      "metadata": {
        "id": "gEXQhMQdxHeh"
      }
    },
    {
      "cell_type": "code",
      "source": [
        "nltk.download('averaged_perceptron_tagger')\n",
        "from nltk.tag import pos_tag #part of speech function"
      ],
      "metadata": {
        "colab": {
          "base_uri": "https://localhost:8080/"
        },
        "id": "eoBsjIpcyvFm",
        "outputId": "06ca5c03-5851-419d-d092-2fe4495a63e7"
      },
      "execution_count": 12,
      "outputs": [
        {
          "output_type": "stream",
          "name": "stdout",
          "text": [
            "[nltk_data] Downloading package averaged_perceptron_tagger to\n",
            "[nltk_data]     /root/nltk_data...\n",
            "[nltk_data]   Package averaged_perceptron_tagger is already up-to-\n",
            "[nltk_data]       date!\n"
          ]
        }
      ]
    },
    {
      "cell_type": "code",
      "source": [
        "pos = pos_tag(tokenized_word) # determine part of speech of each word\n",
        "postags = [x for _,x in pos] # create a list of just the parts of speech\n",
        "print(pos)\n",
        "print(postags)\n",
        "\n",
        "posdist = FreqDist(postags)\n",
        "posdist['NNP'] + posdist['NNPS']"
      ],
      "metadata": {
        "colab": {
          "base_uri": "https://localhost:8080/"
        },
        "id": "e762O7_dxwDl",
        "outputId": "8488fd67-2daa-46b8-b6e6-1ab7f09f676f"
      },
      "execution_count": 13,
      "outputs": [
        {
          "output_type": "stream",
          "name": "stdout",
          "text": [
            "[('Text', 'NN'), ('Analytics', 'NNP'), ('has', 'VBZ'), ('lots', 'NNS'), ('of', 'IN'), ('applications', 'NNS'), ('in', 'IN'), ('today', 'NN'), (\"'s\", 'POS'), ('online', 'JJ'), ('world', 'NN'), ('.', '.'), ('By', 'IN'), ('analyzing', 'VBG'), ('tweets', 'NNS'), ('on', 'IN'), ('Twitter', 'NNP'), (',', ','), ('we', 'PRP'), ('can', 'MD'), ('find', 'VB'), ('trending', 'JJ'), ('news', 'NN'), ('and', 'CC'), ('peoples', 'NNS'), ('reaction', 'NN'), ('on', 'IN'), ('a', 'DT'), ('particular', 'JJ'), ('event', 'NN'), ('.', '.'), ('Amazon', 'NNP'), ('can', 'MD'), ('understand', 'VB'), ('user', 'JJ'), ('feedback', 'NN'), ('or', 'CC'), ('review', 'NN'), ('on', 'IN'), ('the', 'DT'), ('specific', 'JJ'), ('product', 'NN'), ('.', '.'), ('BookMyShow', 'NNP'), ('can', 'MD'), ('discover', 'VB'), ('people', 'NNS'), (\"'s\", 'POS'), ('opinion', 'NN'), ('about', 'IN'), ('the', 'DT'), ('movie', 'NN'), ('.', '.'), ('Youtube', 'NN'), ('can', 'MD'), ('also', 'RB'), ('analyze', 'VB'), ('and', 'CC'), ('understand', 'VB'), ('peoples', 'NNS'), ('viewpoints', 'NNS'), ('on', 'IN'), ('a', 'DT'), ('video', 'NN'), ('.', '.')]\n",
            "['NN', 'NNP', 'VBZ', 'NNS', 'IN', 'NNS', 'IN', 'NN', 'POS', 'JJ', 'NN', '.', 'IN', 'VBG', 'NNS', 'IN', 'NNP', ',', 'PRP', 'MD', 'VB', 'JJ', 'NN', 'CC', 'NNS', 'NN', 'IN', 'DT', 'JJ', 'NN', '.', 'NNP', 'MD', 'VB', 'JJ', 'NN', 'CC', 'NN', 'IN', 'DT', 'JJ', 'NN', '.', 'NNP', 'MD', 'VB', 'NNS', 'POS', 'NN', 'IN', 'DT', 'NN', '.', 'NN', 'MD', 'RB', 'VB', 'CC', 'VB', 'NNS', 'NNS', 'IN', 'DT', 'NN', '.']\n"
          ]
        },
        {
          "output_type": "execute_result",
          "data": {
            "text/plain": [
              "4"
            ]
          },
          "metadata": {},
          "execution_count": 13
        }
      ]
    },
    {
      "cell_type": "markdown",
      "source": [
        "The result looks promising, but a quick look shows that \"Analytics\" was falsely flagged as a proper noun while Youtube was considered just a noun."
      ],
      "metadata": {
        "id": "RGp039yU1nZL"
      }
    },
    {
      "cell_type": "markdown",
      "source": [
        "Second task: Create a word cloud based on the frequency of each word in the text."
      ],
      "metadata": {
        "id": "vbKy5pB2yRI-"
      }
    },
    {
      "cell_type": "code",
      "source": [
        "import collections # word frequency statistics library\n",
        "import numpy as np # numpy data processing library\n",
        "import wordcloud # word cloud display library\n",
        "from PIL import Image # Image processing library\n",
        "import matplotlib.pyplot as plt # Image library"
      ],
      "metadata": {
        "id": "H-gOBzeByVa3"
      },
      "execution_count": 14,
      "outputs": []
    },
    {
      "cell_type": "code",
      "source": [
        "word_list = []\n",
        "remove_words = ['.',':','[',']']\n",
        "\n",
        "for word in tokenized_word: # Read each word in a loop\n",
        "    if word not in remove_words:\n",
        "        word_list.append(word) # word append to list\n",
        "\n",
        "# Word frequency statistics\n",
        "word_counts = collections.Counter(word_list) # Do word frequency statistics for word segmentation\n",
        "print (word_counts) "
      ],
      "metadata": {
        "colab": {
          "base_uri": "https://localhost:8080/"
        },
        "id": "lL5hoHkby-yc",
        "outputId": "8fc87111-2bf8-4ce5-f67f-6b451e165683"
      },
      "execution_count": 15,
      "outputs": [
        {
          "output_type": "stream",
          "name": "stdout",
          "text": [
            "Counter({'on': 4, 'can': 4, \"'s\": 2, 'and': 2, 'peoples': 2, 'a': 2, 'understand': 2, 'the': 2, 'Text': 1, 'Analytics': 1, 'has': 1, 'lots': 1, 'of': 1, 'applications': 1, 'in': 1, 'today': 1, 'online': 1, 'world': 1, 'By': 1, 'analyzing': 1, 'tweets': 1, 'Twitter': 1, ',': 1, 'we': 1, 'find': 1, 'trending': 1, 'news': 1, 'reaction': 1, 'particular': 1, 'event': 1, 'Amazon': 1, 'user': 1, 'feedback': 1, 'or': 1, 'review': 1, 'specific': 1, 'product': 1, 'BookMyShow': 1, 'discover': 1, 'people': 1, 'opinion': 1, 'about': 1, 'movie': 1, 'Youtube': 1, 'also': 1, 'analyze': 1, 'viewpoints': 1, 'video': 1})\n"
          ]
        }
      ]
    },
    {
      "cell_type": "code",
      "source": [
        "mask = np.array(Image.open('/content/drive/MyDrive/pic/Snorlax.png')) # Define word frequency context\n",
        "wc = wordcloud.WordCloud(\n",
        "    mask=mask, # set background image\n",
        "    max_words=50, # maximum number of words displayed\n",
        "    max_font_size=300 # font max\n",
        ")"
      ],
      "metadata": {
        "id": "2Ke9wbs9zIz0"
      },
      "execution_count": 22,
      "outputs": []
    },
    {
      "cell_type": "code",
      "source": [
        "wc.generate_from_frequencies(word_counts) # Generate word from dictionary\n",
        "image_colors = wordcloud.ImageColorGenerator(mask) # Create a color scheme from a background image\n",
        "wc.recolor(color_func=image_colors) # Set word cloud color as background image scheme\n",
        "plt.imshow(wc) # Show word cloud\n",
        "plt.axis('off') # Close the axes\n",
        "plt.show() # display image"
      ],
      "metadata": {
        "colab": {
          "base_uri": "https://localhost:8080/",
          "height": 220
        },
        "id": "IhvIyrbGz4b-",
        "outputId": "a8b86cae-5d2f-4c8d-8b97-83a48f26752c"
      },
      "execution_count": 23,
      "outputs": [
        {
          "output_type": "display_data",
          "data": {
            "image/png": "[encoded data removed]",
            "text/plain": [
              "<Figure size 432x288 with 1 Axes>"
            ]
          },
          "metadata": {
            "needs_background": "light"
          }
        }
      ]
    },
    {
      "cell_type": "markdown",
      "source": [
        "Third task: Apply lexical normalization to the data."
      ],
      "metadata": {
        "id": "GO7D0KGm0sxX"
      }
    },
    {
      "cell_type": "code",
      "source": [
        "from nltk.stem import WordNetLemmatizer\n",
        "from nltk.corpus import stopwords\n",
        "nltk.download('stopwords')\n",
        "nltk.download('wordnet')"
      ],
      "metadata": {
        "colab": {
          "base_uri": "https://localhost:8080/"
        },
        "id": "yJxYoQDa1AUX",
        "outputId": "66913569-4a26-45de-d485-885fa31e53ad"
      },
      "execution_count": 25,
      "outputs": [
        {
          "output_type": "stream",
          "name": "stdout",
          "text": [
            "[nltk_data] Downloading package stopwords to /root/nltk_data...\n",
            "[nltk_data]   Package stopwords is already up-to-date!\n",
            "[nltk_data] Downloading package wordnet to /root/nltk_data...\n",
            "[nltk_data]   Package wordnet is already up-to-date!\n"
          ]
        },
        {
          "output_type": "execute_result",
          "data": {
            "text/plain": [
              "True"
            ]
          },
          "metadata": {},
          "execution_count": 25
        }
      ]
    },
    {
      "cell_type": "code",
      "source": [
        "raw_text = text\n",
        "\n",
        "raw_words = nltk.word_tokenize(raw_text)\n",
        "\n",
        "print(raw_words)"
      ],
      "metadata": {
        "colab": {
          "base_uri": "https://localhost:8080/"
        },
        "id": "79AsjYTA1OYW",
        "outputId": "85436002-8433-46e0-92d3-07000d70e3b3"
      },
      "execution_count": 26,
      "outputs": [
        {
          "output_type": "stream",
          "name": "stdout",
          "text": [
            "['Text', 'Analytics', 'has', 'lots', 'of', 'applications', 'in', 'today', \"'s\", 'online', 'world', '.', 'By', 'analyzing', 'tweets', 'on', 'Twitter', ',', 'we', 'can', 'find', 'trending', 'news', 'and', 'peoples', 'reaction', 'on', 'a', 'particular', 'event', '.', 'Amazon', 'can', 'understand', 'user', 'feedback', 'or', 'review', 'on', 'the', 'specific', 'product', '.', 'BookMyShow', 'can', 'discover', 'people', \"'s\", 'opinion', 'about', 'the', 'movie', '.', 'Youtube', 'can', 'also', 'analyze', 'and', 'understand', 'peoples', 'viewpoints', 'on', 'a', 'video', '.']\n"
          ]
        }
      ]
    },
    {
      "cell_type": "code",
      "source": [
        "filtered_words=[]\n",
        "\n",
        "for word in raw_words:\n",
        "    if word not in stopwords.words('english'):\n",
        "        filtered_words.append(word)\n",
        "\n",
        "\n",
        "wordnet_lematizer = WordNetLemmatizer()\n",
        "output_words=[]\n",
        "for word in filtered_words:\n",
        "    temp=wordnet_lematizer.lemmatize(word)\n",
        "    output_words.append(temp)\n",
        "\n",
        "print('input：', raw_text)\n",
        "print('output：', output_words)"
      ],
      "metadata": {
        "colab": {
          "base_uri": "https://localhost:8080/"
        },
        "id": "ovcGeWiG1RL-",
        "outputId": "e908b1ed-5ddb-41f3-a195-0be77c04c9c5"
      },
      "execution_count": 27,
      "outputs": [
        {
          "output_type": "stream",
          "name": "stdout",
          "text": [
            "input： Text Analytics has lots of applications in today's online world. By analyzing tweets on Twitter, we can find trending news and peoples reaction on a particular event. Amazon can understand user feedback or review on the specific product. BookMyShow can discover people's opinion about the movie. Youtube can also analyze and understand peoples viewpoints on a video.\n",
            "output： ['Text', 'Analytics', 'lot', 'application', 'today', \"'s\", 'online', 'world', '.', 'By', 'analyzing', 'tweet', 'Twitter', ',', 'find', 'trending', 'news', 'people', 'reaction', 'particular', 'event', '.', 'Amazon', 'understand', 'user', 'feedback', 'review', 'specific', 'product', '.', 'BookMyShow', 'discover', 'people', \"'s\", 'opinion', 'movie', '.', 'Youtube', 'also', 'analyze', 'understand', 'people', 'viewpoint', 'video', '.']\n"
          ]
        }
      ]
    },
    {
      "cell_type": "code",
      "source": [
        "print(len(tokenized_word))\n",
        "print(len(output_words))"
      ],
      "metadata": {
        "colab": {
          "base_uri": "https://localhost:8080/"
        },
        "id": "C8hLi43m9xg6",
        "outputId": "876b7941-93e5-4809-e1c1-2b3d993f03fb"
      },
      "execution_count": 39,
      "outputs": [
        {
          "output_type": "stream",
          "name": "stdout",
          "text": [
            "65\n",
            "45\n"
          ]
        }
      ]
    }
  ]
}